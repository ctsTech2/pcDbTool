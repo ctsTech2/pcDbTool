{
 "cells": [
  {
   "cell_type": "code",
   "execution_count": 2,
   "metadata": {},
   "outputs": [],
   "source": [
    "import openai\n",
    "import langchain\n",
    "import langchain_pinecone\n",
    "import pinecone\n",
    "import os"
   ]
  },
  {
   "cell_type": "code",
   "execution_count": 3,
   "metadata": {},
   "outputs": [
    {
     "data": {
      "text/plain": [
       "True"
      ]
     },
     "execution_count": 3,
     "metadata": {},
     "output_type": "execute_result"
    }
   ],
   "source": [
    "from dotenv import load_dotenv\n",
    "load_dotenv()"
   ]
  },
  {
   "cell_type": "code",
   "execution_count": 19,
   "metadata": {},
   "outputs": [],
   "source": [
    "from pinecone import Pinecone, ServerlessSpec\n",
    "use_serverless = True\n",
    "from openai import OpenAI\n",
    "from langchain_openai import OpenAIEmbeddings\n",
    "from langchain_community.document_loaders import PyPDFLoader\n",
    "from langchain_pinecone import PineconeVectorStore"
   ]
  },
  {
   "cell_type": "code",
   "execution_count": 5,
   "metadata": {},
   "outputs": [],
   "source": [
    "# Initializing pinecone client and specific index connection\n",
    "\n",
    "pc_api_key = os.environ.get('PINECONE_API_KEY')\n",
    "pc_index_name = os.environ.get('PINECONE_INDEX_NAME')\n",
    "\n",
    "pc = Pinecone(api_key=pc_api_key)\n",
    "index = pc.Index(pc_index_name)"
   ]
  },
  {
   "cell_type": "code",
   "execution_count": 6,
   "metadata": {},
   "outputs": [],
   "source": [
    "# Initialize the OpenAI client\n",
    "\n",
    "api_key = os.getenv('OPENAI_API_KEY')\n",
    "client = OpenAI(api_key=api_key)\n"
   ]
  },
  {
   "cell_type": "code",
   "execution_count": 44,
   "metadata": {},
   "outputs": [
    {
     "data": {
      "text/plain": [
       "{}"
      ]
     },
     "execution_count": 44,
     "metadata": {},
     "output_type": "execute_result"
    }
   ],
   "source": [
    "index.delete(delete_all=True, namespace='')"
   ]
  },
  {
   "cell_type": "code",
   "execution_count": 45,
   "metadata": {},
   "outputs": [],
   "source": [
    "# Loading a single pdf from documents directory and splitting it into chunks\n",
    "# list is 44 pages long\n",
    "\n",
    "loader = PyPDFLoader(\"documents/320.adminEnforcement.pdf\")\n",
    "pages = loader.load_and_split()"
   ]
  },
  {
   "cell_type": "code",
   "execution_count": 49,
   "metadata": {},
   "outputs": [],
   "source": [
    "# Loading a single pdf from documents directory and splitting it into chunks\n",
    "# list is 97 pages long\n",
    "\n",
    "loader = PyPDFLoader(\"documents/321.constructionStandards.pdf\")\n",
    "pages = loader.load_and_split()"
   ]
  },
  {
   "cell_type": "code",
   "execution_count": 52,
   "metadata": {},
   "outputs": [],
   "source": [
    "# Loading a single pdf from documents directory and splitting it into chunks\n",
    "# list is 27 pages long\n",
    "\n",
    "loader = PyPDFLoader(\"documents/322.energyConservation.pdf\")\n",
    "pages = loader.load_and_split()"
   ]
  },
  {
   "cell_type": "code",
   "execution_count": 55,
   "metadata": {},
   "outputs": [],
   "source": [
    "# Loading a single pdf from documents directory and splitting it into chunks\n",
    "# list is 25 pages long\n",
    "\n",
    "loader = PyPDFLoader(\"documents/323.HVAC.pdf\")\n",
    "pages = loader.load_and_split()"
   ]
  },
  {
   "cell_type": "code",
   "execution_count": 58,
   "metadata": {},
   "outputs": [],
   "source": [
    "# Loading a single pdf from documents directory and splitting it into chunks\n",
    "# list is 1 page long\n",
    "\n",
    "loader = PyPDFLoader(\"documents/324.electrical.pdf\")\n",
    "pages = loader.load_and_split()"
   ]
  },
  {
   "cell_type": "code",
   "execution_count": 61,
   "metadata": {},
   "outputs": [],
   "source": [
    "# Loading a single pdf from documents directory and splitting it into chunks\n",
    "# list is 1 page long\n",
    "\n",
    "loader = PyPDFLoader(\"documents/325.plumbing.pdf\")\n",
    "pages = loader.load_and_split()"
   ]
  },
  {
   "cell_type": "code",
   "execution_count": 63,
   "metadata": {},
   "outputs": [],
   "source": [
    "# Loading a single pdf from documents directory and splitting it into chunks\n",
    "# list is 161 pages long\n",
    "\n",
    "loader = PyPDFLoader(\"documents/325.udcAppendixA.pdf\")\n",
    "pages = loader.load_and_split()"
   ]
  },
  {
   "cell_type": "code",
   "execution_count": 66,
   "metadata": {},
   "outputs": [],
   "source": [
    "# Loading a single pdf from documents directory and splitting it into chunks\n",
    "# list is 24 pages long\n",
    "\n",
    "loader = PyPDFLoader(\"documents/325.udcAppendixB.pdf\")\n",
    "pages = loader.load_and_split()"
   ]
  },
  {
   "cell_type": "code",
   "execution_count": 68,
   "metadata": {},
   "outputs": [],
   "source": [
    "# Loading a single pdf from documents directory and splitting it into chunks\n",
    "# list is 18 pages long\n",
    "\n",
    "loader = PyPDFLoader(\"documents/325.udcAppendixC.pdf\")\n",
    "pages = loader.load_and_split()"
   ]
  },
  {
   "cell_type": "code",
   "execution_count": null,
   "metadata": {},
   "outputs": [],
   "source": [
    "# Test the output. Make sure we have the right text \n",
    "\n",
    "pages[0]"
   ]
  },
  {
   "cell_type": "code",
   "execution_count": 28,
   "metadata": {},
   "outputs": [],
   "source": [
    "# Initialize a langchain/openAI embedding object\n",
    "\n",
    "model_name = 'text-embedding-3-small'\n",
    "embeddings = OpenAIEmbeddings(\n",
    "    model=model_name,\n",
    "    openai_api_key=api_key\n",
    ")"
   ]
  },
  {
   "cell_type": "code",
   "execution_count": 69,
   "metadata": {},
   "outputs": [],
   "source": [
    "# Connect to our Pinecone index and insert those chunked docs as contents\n",
    "# 9 Wisconsin pdfs were 398 pages long in total, that matched the vector total\n",
    "\n",
    "docsearch = PineconeVectorStore.from_documents(\n",
    "    pages, embeddings, index_name=pc_index_name\n",
    ")"
   ]
  },
  {
   "cell_type": "code",
   "execution_count": 48,
   "metadata": {},
   "outputs": [
    {
     "data": {
      "text/plain": [
       "{'dimension': 1536,\n",
       " 'index_fullness': 0.0,\n",
       " 'namespaces': {},\n",
       " 'total_vector_count': 0}"
      ]
     },
     "execution_count": 48,
     "metadata": {},
     "output_type": "execute_result"
    }
   ],
   "source": [
    "index.describe_index_stats()"
   ]
  }
 ],
 "metadata": {
  "kernelspec": {
   "display_name": "pcDbToolEnv",
   "language": "python",
   "name": "python3"
  },
  "language_info": {
   "codemirror_mode": {
    "name": "ipython",
    "version": 3
   },
   "file_extension": ".py",
   "mimetype": "text/x-python",
   "name": "python",
   "nbconvert_exporter": "python",
   "pygments_lexer": "ipython3",
   "version": "3.10.13"
  }
 },
 "nbformat": 4,
 "nbformat_minor": 2
}
